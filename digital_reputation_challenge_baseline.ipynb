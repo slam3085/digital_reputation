{
 "cells": [
  {
   "cell_type": "code",
   "execution_count": 1,
   "metadata": {
    "ExecuteTime": {
     "end_time": "2019-09-04T08:33:35.319634Z",
     "start_time": "2019-09-04T08:33:34.830072Z"
    }
   },
   "outputs": [],
   "source": [
    "# Import libraries and set desired options\n",
    "import matplotlib.pyplot as plt\n",
    "import numpy as np\n",
    "import pandas as pd\n",
    "import seaborn as sns\n",
    "from IPython.display import display\n",
    "from scipy import sparse, stats\n",
    "from scipy.linalg import svd\n",
    "import umap\n",
    "from sklearn import preprocessing\n",
    "from sklearn.decomposition import TruncatedSVD\n",
    "from sklearn.linear_model import LogisticRegression\n",
    "from sklearn.preprocessing import MinMaxScaler\n",
    "from sklearn import svm\n",
    "from sklearn.ensemble import RandomForestClassifier\n",
    "from sklearn.neighbors import KNeighborsClassifier\n",
    "from sklearn.metrics import f1_score, roc_auc_score\n",
    "from sklearn.model_selection import (KFold, StratifiedKFold, cross_val_score,\n",
    "                                     cross_validate, train_test_split)\n",
    "from tqdm import tqdm\n",
    "from lightgbm import LGBMClassifier\n",
    "from code.cross_validation import *\n",
    "from code.read_data import *\n",
    "from code.feature_engineering import *"
   ]
  },
  {
   "cell_type": "code",
   "execution_count": 2,
   "metadata": {
    "ExecuteTime": {
     "end_time": "2019-09-04T08:33:35.322327Z",
     "start_time": "2019-09-04T08:33:35.320726Z"
    }
   },
   "outputs": [],
   "source": [
    "pd.set_option('display.max_columns', None) \n",
    "pd.set_option('display.max_rows', None)\n",
    "sns.set()\n",
    "import warnings\n",
    "warnings.filterwarnings('ignore')\n",
    "%load_ext autoreload\n",
    "%autoreload 2"
   ]
  },
  {
   "cell_type": "markdown",
   "metadata": {},
   "source": [
    "# Read data sets"
   ]
  },
  {
   "cell_type": "code",
   "execution_count": 3,
   "metadata": {
    "ExecuteTime": {
     "end_time": "2019-09-04T08:33:36.365935Z",
     "start_time": "2019-09-04T08:33:35.903478Z"
    }
   },
   "outputs": [],
   "source": [
    "X1, X2, X3, Y, X1_test, X2_test, X3_test = read_data()\n",
    "Y = Y.rename(columns={f'{i}': f'target_{i}' for i in range(1, 6)})"
   ]
  },
  {
   "cell_type": "code",
   "execution_count": 4,
   "metadata": {},
   "outputs": [
    {
     "name": "stdout",
     "output_type": "stream",
     "text": [
      "umap...\n",
      "tsne...\n",
      "Wall time: 5min 58s\n"
     ]
    }
   ],
   "source": [
    "%%time\n",
    "X_train = agg_and_merge(X1, X2, X3)\n",
    "X_test = agg_and_merge(X1_test, X2_test, X3_test)\n",
    "X_train, X_test = eng(X_train, X_test)\n",
    "X_train, X_test = add_emedding_features(X_train, X_test, random_state=42)\n",
    "X_train_norm, X_test_norm = normalize(X_train, X_test)"
   ]
  },
  {
   "cell_type": "markdown",
   "metadata": {
    "ExecuteTime": {
     "end_time": "2019-09-04T08:33:37.485178Z",
     "start_time": "2019-09-04T08:33:37.478886Z"
    }
   },
   "source": [
    "# Simple models"
   ]
  },
  {
   "cell_type": "code",
   "execution_count": 5,
   "metadata": {},
   "outputs": [],
   "source": [
    "merged = pd.merge(X_train, Y, on='id')\n",
    "logreg_merged = pd.merge(X_train_norm, Y, on='id')\n",
    "targets = ['target_1', 'target_2', 'target_3', 'target_4', 'target_5']\n",
    "assert len(merged) == len(logreg_merged)\n",
    "final_models = {}\n",
    "final_models_roc_auc = {}"
   ]
  },
  {
   "cell_type": "markdown",
   "metadata": {},
   "source": [
    "## logregs"
   ]
  },
  {
   "cell_type": "code",
   "execution_count": 6,
   "metadata": {},
   "outputs": [
    {
     "name": "stdout",
     "output_type": "stream",
     "text": [
      "target_1\n",
      "roc_auc  avg:  0.536   ['0.510', '0.532', '0.566']\n",
      "roc_auc  avg:  0.539   ['0.512', '0.534', '0.571']\n",
      "roc_auc  avg:  0.540   ['0.512', '0.534', '0.572']\n",
      "roc_auc  avg:  0.540   ['0.513', '0.534', '0.573']\n",
      "roc_auc  avg:  0.540   ['0.514', '0.534', '0.573']\n",
      "roc_auc  avg:  0.540   ['0.514', '0.534', '0.572']\n",
      "roc_auc  avg:  0.540   ['0.514', '0.534', '0.572']\n",
      "roc_auc  avg:  0.540   ['0.514', '0.534', '0.572']\n",
      "roc_auc  avg:  0.540   ['0.514', '0.533', '0.573']\n",
      "roc_auc  avg:  0.540   ['0.514', '0.533', '0.572']\n",
      "[0.5360431976947645, 0.5391695738729793, 0.5395739764670948, 0.5400198267040781, 0.5404247228702622, 0.5401109275061202, 0.5400452623726011, 0.5400460709906711, 0.5399626792688123, 0.5397728917388904]\n",
      "index: 4\n",
      "target_2\n",
      "roc_auc  avg:  0.567   ['0.567', '0.575', '0.559']\n",
      "roc_auc  avg:  0.569   ['0.569', '0.577', '0.563']\n",
      "roc_auc  avg:  0.570   ['0.568', '0.577', '0.564']\n",
      "roc_auc  avg:  0.570   ['0.568', '0.578', '0.565']\n",
      "roc_auc  avg:  0.571   ['0.568', '0.578', '0.566']\n",
      "roc_auc  avg:  0.570   ['0.568', '0.577', '0.566']\n",
      "roc_auc  avg:  0.570   ['0.567', '0.577', '0.567']\n",
      "roc_auc  avg:  0.570   ['0.567', '0.577', '0.567']\n",
      "roc_auc  avg:  0.570   ['0.566', '0.577', '0.567']\n",
      "roc_auc  avg:  0.570   ['0.566', '0.576', '0.568']\n",
      "[0.5671351854957325, 0.5694003647250243, 0.5698417619782989, 0.5703118763443785, 0.5705769474244217, 0.570443907579434, 0.5704126552626406, 0.5704561586335282, 0.5702190714634098, 0.5700792230454085]\n",
      "index: 4\n",
      "target_3\n",
      "roc_auc  avg:  0.605   ['0.585', '0.609', '0.621']\n",
      "roc_auc  avg:  0.608   ['0.593', '0.613', '0.619']\n",
      "roc_auc  avg:  0.608   ['0.595', '0.613', '0.618']\n",
      "roc_auc  avg:  0.609   ['0.596', '0.612', '0.618']\n",
      "roc_auc  avg:  0.609   ['0.597', '0.612', '0.618']\n",
      "roc_auc  avg:  0.609   ['0.597', '0.611', '0.618']\n",
      "roc_auc  avg:  0.609   ['0.597', '0.610', '0.618']\n",
      "roc_auc  avg:  0.609   ['0.598', '0.610', '0.619']\n",
      "roc_auc  avg:  0.609   ['0.598', '0.610', '0.619']\n",
      "roc_auc  avg:  0.609   ['0.598', '0.609', '0.619']\n",
      "[0.6050039592175106, 0.608310410322357, 0.608452868196368, 0.608623568292824, 0.608661122921632, 0.6086061889171702, 0.6085145264947295, 0.6087714934443638, 0.6087436205737808, 0.6087184173941288]\n",
      "index: 7\n",
      "target_4\n",
      "roc_auc  avg:  0.596   ['0.619', '0.598', '0.572']\n",
      "roc_auc  avg:  0.598   ['0.623', '0.601', '0.571']\n",
      "roc_auc  avg:  0.599   ['0.623', '0.602', '0.570']\n",
      "roc_auc  avg:  0.598   ['0.622', '0.602', '0.570']\n",
      "roc_auc  avg:  0.598   ['0.622', '0.602', '0.570']\n",
      "roc_auc  avg:  0.597   ['0.621', '0.602', '0.569']\n",
      "roc_auc  avg:  0.597   ['0.620', '0.601', '0.569']\n",
      "roc_auc  avg:  0.596   ['0.619', '0.601', '0.569']\n",
      "roc_auc  avg:  0.596   ['0.619', '0.601', '0.568']\n",
      "roc_auc  avg:  0.596   ['0.618', '0.600', '0.568']\n",
      "[0.5964443472710275, 0.5983719114784058, 0.5985255218024504, 0.5980004722013449, 0.5977015770338534, 0.5973251375786556, 0.5966844386977156, 0.5961786193474762, 0.5958754578226896, 0.5956310524811413]\n",
      "index: 2\n",
      "target_5\n",
      "roc_auc  avg:  0.537   ['0.545', '0.523', '0.542']\n",
      "roc_auc  avg:  0.540   ['0.543', '0.529', '0.548']\n",
      "roc_auc  avg:  0.541   ['0.542', '0.532', '0.550']\n",
      "roc_auc  avg:  0.542   ['0.541', '0.533', '0.551']\n",
      "roc_auc  avg:  0.542   ['0.540', '0.534', '0.550']\n",
      "roc_auc  avg:  0.541   ['0.539', '0.536', '0.549']\n",
      "roc_auc  avg:  0.541   ['0.539', '0.536', '0.549']\n",
      "roc_auc  avg:  0.541   ['0.538', '0.536', '0.548']\n",
      "roc_auc  avg:  0.541   ['0.538', '0.537', '0.547']\n",
      "roc_auc  avg:  0.540   ['0.537', '0.537', '0.547']\n",
      "[0.536649184924109, 0.5400581140784203, 0.541373231865716, 0.5417110908229578, 0.5416374728587393, 0.5411490738018946, 0.5412942491260369, 0.5409047999508639, 0.5406027645971687, 0.5403400981832114]\n",
      "index: 3\n"
     ]
    }
   ],
   "source": [
    "C_grids = {\n",
    "    'target_1': np.linspace(0.01, 0.1, 10),\n",
    "    'target_2': np.linspace(0.01, 0.1, 10),\n",
    "    'target_3': np.linspace(0.001, 0.01, 10),\n",
    "    'target_4': np.linspace(0.005, 0.1, 10),\n",
    "    'target_5': np.linspace(0.001, 0.01, 10),\n",
    "}\n",
    "\n",
    "for target in targets:\n",
    "    print(target)\n",
    "    roc_auc_means = []\n",
    "    for C in C_grids[target]:\n",
    "        logreg = LogisticRegression(C=C, class_weight='balanced', random_state=42, n_jobs=4)\n",
    "        roc_auc_means.append(CV_metrics(logreg, X_train_norm, Y[target].values))\n",
    "    print(roc_auc_means)\n",
    "    index = roc_auc_means.index(max(roc_auc_means))\n",
    "    print(f'index: {index}')\n",
    "    C = C_grids[target][index]\n",
    "    final_models[f'{target}_logreg'] = LogisticRegression(C=C, class_weight='balanced', random_state=42, n_jobs=-1)\n",
    "    final_models_roc_auc[f'{target}_logreg'] = max(roc_auc_means)"
   ]
  },
  {
   "cell_type": "markdown",
   "metadata": {},
   "source": [
    "## RF"
   ]
  },
  {
   "cell_type": "code",
   "execution_count": 7,
   "metadata": {},
   "outputs": [
    {
     "name": "stdout",
     "output_type": "stream",
     "text": [
      "target_1\n",
      "roc_auc  avg:  0.569   ['0.542', '0.575', '0.590']\n",
      "roc_auc  avg:  0.566   ['0.536', '0.573', '0.590']\n",
      "roc_auc  avg:  0.563   ['0.534', '0.566', '0.588']\n",
      "[0.5692151616021781, 0.5662488192457745, 0.5625744071827128]\n",
      "index: 0\n",
      "target_2\n",
      "roc_auc  avg:  0.586   ['0.599', '0.589', '0.569']\n",
      "roc_auc  avg:  0.587   ['0.598', '0.591', '0.573']\n",
      "roc_auc  avg:  0.585   ['0.592', '0.588', '0.576']\n",
      "[0.5855792979050577, 0.5872319700268412, 0.585243850291849]\n",
      "index: 1\n",
      "target_3\n",
      "roc_auc  avg:  0.618   ['0.607', '0.618', '0.628']\n",
      "roc_auc  avg:  0.618   ['0.610', '0.617', '0.626']\n",
      "roc_auc  avg:  0.618   ['0.609', '0.619', '0.625']\n",
      "[0.6177202201077125, 0.61793286129407, 0.6175481154978009]\n",
      "index: 1\n",
      "target_4\n",
      "roc_auc  avg:  0.586   ['0.597', '0.595', '0.566']\n",
      "roc_auc  avg:  0.588   ['0.599', '0.598', '0.566']\n",
      "roc_auc  avg:  0.587   ['0.598', '0.597', '0.565']\n",
      "[0.5862315689156831, 0.5877944732194157, 0.5869352055896664]\n",
      "index: 1\n",
      "target_5\n",
      "roc_auc  avg:  0.540   ['0.534', '0.531', '0.554']\n",
      "roc_auc  avg:  0.540   ['0.537', '0.532', '0.550']\n",
      "roc_auc  avg:  0.538   ['0.534', '0.531', '0.548']\n",
      "[0.539610377355951, 0.5396961452270851, 0.5377081365492953]\n",
      "index: 1\n"
     ]
    }
   ],
   "source": [
    "C_grids = {\n",
    "    'target_1': [{'n_estimators':500, 'max_depth':7}, {'n_estimators':500, 'max_depth':9}, {'n_estimators':500, 'max_depth':12}],\n",
    "    'target_2': [{'n_estimators':700, 'max_depth':7}, {'n_estimators':700, 'max_depth':9}, {'n_estimators':700, 'max_depth':12}],\n",
    "    'target_3': [{'n_estimators':600, 'max_depth':7}, {'n_estimators':600, 'max_depth':9}, {'n_estimators':600, 'max_depth':12}],\n",
    "    'target_4': [{'n_estimators':500, 'max_depth':3}, {'n_estimators':600, 'max_depth':3}, {'n_estimators':700, 'max_depth':3}],\n",
    "    'target_5': [{'n_estimators':400, 'max_depth':3}, {'n_estimators':500, 'max_depth':3}, {'n_estimators':600, 'max_depth':3}],\n",
    "}\n",
    "\n",
    "for target in targets:\n",
    "    print(target)\n",
    "    roc_auc_means = []\n",
    "    for options in C_grids[target]:\n",
    "        rf = RandomForestClassifier(**options, class_weight='balanced', random_state=42, n_jobs=4)\n",
    "        roc_auc_means.append(CV_metrics(rf, X_train, Y[target].values))\n",
    "    print(roc_auc_means)\n",
    "    index = roc_auc_means.index(max(roc_auc_means))\n",
    "    print(f'index: {index}')\n",
    "    options = C_grids[target][index]\n",
    "    final_models[f'{target}_rf'] = RandomForestClassifier(**options,\n",
    "                                                          class_weight='balanced',\n",
    "                                                          random_state=42,\n",
    "                                                          n_jobs=-1)\n",
    "    final_models_roc_auc[f'{target}_rf'] = max(roc_auc_means)"
   ]
  },
  {
   "cell_type": "markdown",
   "metadata": {},
   "source": [
    "## GBM"
   ]
  },
  {
   "cell_type": "code",
   "execution_count": 8,
   "metadata": {},
   "outputs": [
    {
     "name": "stdout",
     "output_type": "stream",
     "text": [
      "target_1\n",
      "roc_auc  avg:  0.589   ['0.584', '0.590', '0.592']\n",
      "roc_auc  avg:  0.593   ['0.581', '0.593', '0.605']\n",
      "roc_auc  avg:  0.591   ['0.579', '0.592', '0.604']\n",
      "[0.5886782114223689, 0.593348734977652, 0.5914525838392782]\n",
      "index: 1\n",
      "target_2\n",
      "roc_auc  avg:  0.590   ['0.600', '0.592', '0.577']\n",
      "roc_auc  avg:  0.590   ['0.600', '0.591', '0.580']\n",
      "roc_auc  avg:  0.590   ['0.599', '0.590', '0.580']\n",
      "[0.5895035848440997, 0.5900164210451609, 0.5898491632418796]\n",
      "index: 1\n",
      "target_3\n",
      "roc_auc  avg:  0.618   ['0.608', '0.622', '0.624']\n",
      "roc_auc  avg:  0.618   ['0.608', '0.622', '0.624']\n",
      "roc_auc  avg:  0.618   ['0.608', '0.621', '0.625']\n",
      "[0.6178405803031389, 0.6179397683626111, 0.6175471775745276]\n",
      "index: 1\n",
      "target_4\n",
      "roc_auc  avg:  0.600   ['0.612', '0.610', '0.579']\n",
      "roc_auc  avg:  0.601   ['0.614', '0.608', '0.582']\n",
      "roc_auc  avg:  0.600   ['0.615', '0.608', '0.575']\n",
      "[0.600153745926977, 0.6010678895906593, 0.599614121595269]\n",
      "index: 1\n",
      "target_5\n",
      "roc_auc  avg:  0.542   ['0.546', '0.527', '0.553']\n",
      "roc_auc  avg:  0.541   ['0.545', '0.526', '0.553']\n",
      "roc_auc  avg:  0.540   ['0.544', '0.524', '0.553']\n",
      "[0.5417901799569075, 0.5414406738274828, 0.5402802795278258]\n",
      "index: 0\n"
     ]
    }
   ],
   "source": [
    "C_grids = {\n",
    "    'target_1': [{'n_estimators':100, 'num_leaves':3, 'reg_lambda':10.0}, {'n_estimators':100, 'num_leaves':5, 'reg_lambda':10.0}, {'n_estimators':100, 'num_leaves':7, 'reg_lambda':10.0}],\n",
    "    'target_2': [{'n_estimators':400, 'num_leaves':7, 'reg_lambda':10.0}, {'n_estimators':500, 'num_leaves':7, 'reg_lambda':10.0}, {'n_estimators':600, 'num_leaves':7, 'reg_lambda':10.0}],\n",
    "    'target_3': [{'n_estimators':150, 'num_leaves':7, 'reg_lambda':15.0}, {'n_estimators':150, 'num_leaves':9, 'reg_lambda':15.0}, {'n_estimators':150, 'num_leaves':12, 'reg_lambda':15.0}],\n",
    "    'target_4': [{'n_estimators':100, 'num_leaves':3, 'reg_lambda':10.0}, {'n_estimators':150, 'num_leaves':3, 'reg_lambda':10.0}, {'n_estimators':200, 'num_leaves':3, 'reg_lambda':10.0}],\n",
    "    'target_5': [{'n_estimators':100, 'num_leaves':3, 'reg_lambda':75.0}, {'n_estimators':100, 'num_leaves':3, 'reg_lambda':100.0}, {'n_estimators':100, 'num_leaves':3, 'reg_lambda':125.0}],\n",
    "}\n",
    "\n",
    "for target in targets:\n",
    "    print(target)\n",
    "    roc_auc_means = []\n",
    "    for options in C_grids[target]:\n",
    "        gbm = LGBMClassifier(**options, learning_rate=0.01, random_state=42, class_weight='balanced')\n",
    "        roc_auc_means.append(CV_metrics(gbm, X_train, Y[target].values))\n",
    "    print(roc_auc_means)\n",
    "    index = roc_auc_means.index(max(roc_auc_means))\n",
    "    print(f'index: {index}')\n",
    "    options = C_grids[target][index]\n",
    "    final_models[f'{target}_gbm'] = LGBMClassifier(**options, random_state=42, class_weight='balanced')\n",
    "    final_models_roc_auc[f'{target}_gbm'] = max(roc_auc_means)"
   ]
  },
  {
   "cell_type": "code",
   "execution_count": 9,
   "metadata": {},
   "outputs": [
    {
     "name": "stdout",
     "output_type": "stream",
     "text": [
      "0.5404247228702622 0.5692151616021781 0.593348734977652\n",
      "0.5705769474244217 0.5872319700268412 0.5900164210451609\n",
      "0.6087714934443638 0.61793286129407 0.6179397683626111\n",
      "0.5985255218024504 0.5877944732194157 0.6010678895906593\n",
      "0.5417110908229578 0.5396961452270851 0.5417901799569075\n"
     ]
    },
    {
     "data": {
      "text/plain": [
       "0.5804028921111357"
      ]
     },
     "execution_count": 9,
     "metadata": {},
     "output_type": "execute_result"
    }
   ],
   "source": [
    "for target in targets:\n",
    "    print(final_models_roc_auc[f'{target}_logreg'], final_models_roc_auc[f'{target}_rf'], final_models_roc_auc[f'{target}_gbm'])\n",
    "np.mean([v for _, v in final_models_roc_auc.items()])"
   ]
  },
  {
   "cell_type": "markdown",
   "metadata": {},
   "source": [
    "## Model"
   ]
  },
  {
   "cell_type": "code",
   "execution_count": 10,
   "metadata": {},
   "outputs": [],
   "source": [
    "probas = []\n",
    "X_train = merged.drop(columns=targets)\n",
    "X_train_logreg = logreg_merged.drop(columns=targets)\n",
    "for target in targets:\n",
    "    y_train = merged[target].values\n",
    "    # models\n",
    "    # lightgbm\n",
    "    y_proba = final_models[f'{target}_gbm'].fit(X_train, y_train).predict_proba(X_test)[:, 1] * 0.2\n",
    "    # random forest\n",
    "    y_proba += final_models[f'{target}_rf'].fit(X_train, y_train).predict_proba(X_test)[:, 1] * 0.3\n",
    "    # logreg\n",
    "    y_proba += final_models[f'{target}_logreg'].fit(X_train_norm, y_train).predict_proba(X_test_norm)[:, 1] * 0.5\n",
    "    probas.append(y_proba)"
   ]
  },
  {
   "cell_type": "code",
   "execution_count": 11,
   "metadata": {},
   "outputs": [],
   "source": [
    "tmp = pd.DataFrame(probas).T\n",
    "baseline = pd.DataFrame(tmp.values, columns=['1', '2', '3', '4', '5'])\n",
    "baseline['id'] = X_test['id']\n",
    "baseline[['id', '1', '2', '3', '4', '5']].to_csv('baseline.csv', index=False)"
   ]
  },
  {
   "cell_type": "code",
   "execution_count": null,
   "metadata": {},
   "outputs": [],
   "source": []
  }
 ],
 "metadata": {
  "hide_input": false,
  "kernelspec": {
   "display_name": "Python 3",
   "language": "python",
   "name": "python3"
  },
  "language_info": {
   "codemirror_mode": {
    "name": "ipython",
    "version": 3
   },
   "file_extension": ".py",
   "mimetype": "text/x-python",
   "name": "python",
   "nbconvert_exporter": "python",
   "pygments_lexer": "ipython3",
   "version": "3.7.3"
  },
  "toc": {
   "base_numbering": 1,
   "nav_menu": {},
   "number_sections": true,
   "sideBar": true,
   "skip_h1_title": false,
   "title_cell": "Table of Contents",
   "title_sidebar": "Contents",
   "toc_cell": false,
   "toc_position": {
    "height": "calc(100% - 180px)",
    "left": "10px",
    "top": "150px",
    "width": "246.6px"
   },
   "toc_section_display": true,
   "toc_window_display": true
  }
 },
 "nbformat": 4,
 "nbformat_minor": 4
}
