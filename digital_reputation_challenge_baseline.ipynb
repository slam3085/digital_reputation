{
 "cells": [
  {
   "cell_type": "code",
   "execution_count": 1,
   "metadata": {
    "ExecuteTime": {
     "end_time": "2019-09-04T08:33:35.319634Z",
     "start_time": "2019-09-04T08:33:34.830072Z"
    }
   },
   "outputs": [],
   "source": [
    "# Import libraries and set desired options\n",
    "import matplotlib.pyplot as plt\n",
    "import numpy as np\n",
    "import pandas as pd\n",
    "import seaborn as sns\n",
    "from IPython.display import display\n",
    "from scipy import sparse, stats\n",
    "from scipy.linalg import svd\n",
    "import umap\n",
    "from sklearn import preprocessing\n",
    "from sklearn.decomposition import TruncatedSVD\n",
    "from sklearn.linear_model import LogisticRegression\n",
    "from sklearn.preprocessing import MinMaxScaler\n",
    "from sklearn import svm\n",
    "from sklearn.ensemble import RandomForestClassifier\n",
    "from sklearn.neighbors import KNeighborsClassifier\n",
    "from sklearn.metrics import f1_score, roc_auc_score\n",
    "from sklearn.model_selection import (KFold, StratifiedKFold, cross_val_score,\n",
    "                                     cross_validate, train_test_split)\n",
    "from tqdm import tqdm\n",
    "from lightgbm import LGBMClassifier\n",
    "from code.cross_validation import *\n",
    "from code.read_data import *\n",
    "from code.feature_engineering import *"
   ]
  },
  {
   "cell_type": "code",
   "execution_count": 2,
   "metadata": {
    "ExecuteTime": {
     "end_time": "2019-09-04T08:33:35.322327Z",
     "start_time": "2019-09-04T08:33:35.320726Z"
    }
   },
   "outputs": [],
   "source": [
    "pd.set_option('display.max_columns', None) \n",
    "pd.set_option('display.max_rows', None)\n",
    "sns.set()\n",
    "import warnings\n",
    "warnings.filterwarnings('ignore')\n",
    "%load_ext autoreload\n",
    "%autoreload 2"
   ]
  },
  {
   "cell_type": "markdown",
   "metadata": {},
   "source": [
    "# Read data sets"
   ]
  },
  {
   "cell_type": "code",
   "execution_count": 3,
   "metadata": {
    "ExecuteTime": {
     "end_time": "2019-09-04T08:33:36.365935Z",
     "start_time": "2019-09-04T08:33:35.903478Z"
    }
   },
   "outputs": [],
   "source": [
    "X1, X2, X3, Y, X1_test, X2_test, X3_test = read_data()\n",
    "Y = Y.rename(columns={f'{i}': f'target_{i}' for i in range(1, 6)})"
   ]
  },
  {
   "cell_type": "code",
   "execution_count": 4,
   "metadata": {},
   "outputs": [],
   "source": [
    "X_train = agg_and_merge(X1, X2, X3)\n",
    "X_test = agg_and_merge(X1_test, X2_test, X3_test)\n",
    "X_train, X_test = eng(X_train, X_test)\n",
    "X_train, X_test = add_emedding_features(X_train, X_test, random_state=42)\n",
    "X_train_norm, X_test_norm = normalize(X_train, X_test)"
   ]
  },
  {
   "cell_type": "markdown",
   "metadata": {
    "ExecuteTime": {
     "end_time": "2019-09-04T08:33:37.485178Z",
     "start_time": "2019-09-04T08:33:37.478886Z"
    }
   },
   "source": [
    "# Simple models"
   ]
  },
  {
   "cell_type": "code",
   "execution_count": 5,
   "metadata": {},
   "outputs": [],
   "source": [
    "merged = pd.merge(X_train, Y, on='id')\n",
    "logreg_merged = pd.merge(X_train_norm, Y, on='id')\n",
    "targets = ['target_1', 'target_2', 'target_3', 'target_4', 'target_5']\n",
    "assert len(merged) == len(logreg_merged)\n",
    "final_models = {}\n",
    "final_models_roc_auc = {}"
   ]
  },
  {
   "cell_type": "markdown",
   "metadata": {},
   "source": [
    "## logregs"
   ]
  },
  {
   "cell_type": "code",
   "execution_count": 6,
   "metadata": {},
   "outputs": [
    {
     "name": "stdout",
     "output_type": "stream",
     "text": [
      "target_1\n",
      "roc_auc  avg:  0.537   ['0.510', '0.533', '0.567']\n",
      "roc_auc  avg:  0.540   ['0.511', '0.536', '0.573']\n",
      "roc_auc  avg:  0.541   ['0.512', '0.536', '0.576']\n",
      "roc_auc  avg:  0.542   ['0.513', '0.536', '0.577']\n",
      "roc_auc  avg:  0.543   ['0.514', '0.536', '0.578']\n",
      "roc_auc  avg:  0.543   ['0.514', '0.536', '0.578']\n",
      "roc_auc  avg:  0.543   ['0.514', '0.536', '0.579']\n",
      "roc_auc  avg:  0.542   ['0.514', '0.535', '0.578']\n",
      "roc_auc  avg:  0.543   ['0.514', '0.536', '0.578']\n",
      "roc_auc  avg:  0.542   ['0.513', '0.535', '0.578']\n",
      "[0.5367297211189884, 0.5400817943431638, 0.5412440964198096, 0.5419933159076616, 0.5426625767203841, 0.5426147613295506, 0.5426697693160621, 0.5423300723971892, 0.5425376056091477, 0.5421760091744451]\n",
      "index: 6\n",
      "target_2\n",
      "roc_auc  avg:  0.567   ['0.564', '0.577', '0.560']\n",
      "roc_auc  avg:  0.569   ['0.566', '0.579', '0.562']\n",
      "roc_auc  avg:  0.569   ['0.566', '0.579', '0.563']\n",
      "roc_auc  avg:  0.570   ['0.567', '0.579', '0.564']\n",
      "roc_auc  avg:  0.570   ['0.567', '0.579', '0.564']\n",
      "roc_auc  avg:  0.570   ['0.566', '0.579', '0.564']\n",
      "roc_auc  avg:  0.570   ['0.566', '0.579', '0.565']\n",
      "roc_auc  avg:  0.570   ['0.566', '0.579', '0.565']\n",
      "roc_auc  avg:  0.570   ['0.566', '0.579', '0.565']\n",
      "roc_auc  avg:  0.570   ['0.565', '0.579', '0.565']\n",
      "[0.5670781342865525, 0.5690089784741702, 0.5694297767390664, 0.5700103402763196, 0.5700337790579427, 0.5700098843043792, 0.5699642032115045, 0.5699744151590812, 0.5698679074093602, 0.569673982543118]\n",
      "index: 4\n",
      "target_3\n",
      "roc_auc  avg:  0.604   ['0.583', '0.607', '0.623']\n",
      "roc_auc  avg:  0.609   ['0.592', '0.614', '0.621']\n",
      "roc_auc  avg:  0.609   ['0.594', '0.614', '0.619']\n",
      "roc_auc  avg:  0.609   ['0.595', '0.614', '0.619']\n",
      "roc_auc  avg:  0.609   ['0.596', '0.613', '0.618']\n",
      "roc_auc  avg:  0.609   ['0.597', '0.612', '0.618']\n",
      "roc_auc  avg:  0.609   ['0.597', '0.612', '0.618']\n",
      "roc_auc  avg:  0.609   ['0.597', '0.611', '0.619']\n",
      "roc_auc  avg:  0.609   ['0.598', '0.611', '0.619']\n",
      "roc_auc  avg:  0.609   ['0.598', '0.611', '0.619']\n",
      "[0.604026648170187, 0.6089898502008362, 0.6090222195358594, 0.6091953780010275, 0.6091806695020318, 0.6090361666959018, 0.6091485816273824, 0.6091078900551046, 0.6091164126976351, 0.6091794397248123]\n",
      "index: 3\n",
      "target_4\n",
      "roc_auc  avg:  0.595   ['0.616', '0.597', '0.574']\n",
      "roc_auc  avg:  0.598   ['0.621', '0.601', '0.571']\n",
      "roc_auc  avg:  0.598   ['0.622', '0.602', '0.571']\n",
      "roc_auc  avg:  0.598   ['0.622', '0.602', '0.570']\n",
      "roc_auc  avg:  0.598   ['0.621', '0.602', '0.570']\n",
      "roc_auc  avg:  0.598   ['0.621', '0.602', '0.569']\n",
      "roc_auc  avg:  0.597   ['0.620', '0.602', '0.569']\n",
      "roc_auc  avg:  0.597   ['0.619', '0.602', '0.569']\n",
      "roc_auc  avg:  0.596   ['0.618', '0.602', '0.569']\n",
      "roc_auc  avg:  0.596   ['0.617', '0.602', '0.568']\n",
      "[0.5954757317387527, 0.5978754105488567, 0.5981610071869404, 0.5980890097854176, 0.5977699587986899, 0.5975194359631063, 0.5970729338924446, 0.5965902616157137, 0.5963407091606353, 0.5956709787352531]\n",
      "index: 2\n",
      "target_5\n",
      "roc_auc  avg:  0.541   ['0.538', '0.536', '0.549']\n",
      "roc_auc  avg:  0.539   ['0.534', '0.538', '0.546']\n",
      "roc_auc  avg:  0.539   ['0.533', '0.540', '0.544']\n",
      "roc_auc  avg:  0.539   ['0.532', '0.542', '0.543']\n",
      "roc_auc  avg:  0.539   ['0.531', '0.542', '0.542']\n",
      "roc_auc  avg:  0.538   ['0.530', '0.543', '0.542']\n",
      "roc_auc  avg:  0.538   ['0.530', '0.542', '0.542']\n",
      "roc_auc  avg:  0.538   ['0.530', '0.543', '0.541']\n",
      "roc_auc  avg:  0.538   ['0.529', '0.542', '0.541']\n",
      "roc_auc  avg:  0.538   ['0.529', '0.543', '0.542']\n",
      "[0.5409013097175417, 0.539392145879063, 0.5390669378672566, 0.5387931159303142, 0.5385454213345627, 0.538359863118146, 0.5378411976631882, 0.5380279606120162, 0.5376581735030641, 0.538001125649178]\n",
      "index: 0\n"
     ]
    }
   ],
   "source": [
    "C_grids = {\n",
    "    'target_1': np.linspace(0.01, 0.1, 10),\n",
    "    'target_2': np.linspace(0.01, 0.1, 10),\n",
    "    'target_3': np.linspace(0.001, 0.01, 10),\n",
    "    'target_4': np.linspace(0.005, 0.1, 10),\n",
    "    'target_5': np.linspace(0.01, 0.1, 10),\n",
    "}\n",
    "\n",
    "for target in targets:\n",
    "    print(target)\n",
    "    roc_auc_means = []\n",
    "    for C in C_grids[target]:\n",
    "        logreg = LogisticRegression(C=C, class_weight='balanced', random_state=42, n_jobs=4)\n",
    "        roc_auc_means.append(CV_metrics(logreg, X_train_norm, Y[target].values))\n",
    "    print(roc_auc_means)\n",
    "    index = roc_auc_means.index(max(roc_auc_means))\n",
    "    print(f'index: {index}')\n",
    "    C = C_grids[target][index]\n",
    "    final_models[f'{target}_logreg'] = LogisticRegression(C=C, class_weight='balanced', random_state=42, n_jobs=-1)\n",
    "    final_models_roc_auc[f'{target}_logreg'] = max(roc_auc_means)"
   ]
  },
  {
   "cell_type": "markdown",
   "metadata": {},
   "source": [
    "## RF"
   ]
  },
  {
   "cell_type": "code",
   "execution_count": 7,
   "metadata": {},
   "outputs": [
    {
     "name": "stdout",
     "output_type": "stream",
     "text": [
      "target_1\n",
      "roc_auc  avg:  0.564   ['0.532', '0.576', '0.584']\n",
      "roc_auc  avg:  0.562   ['0.529', '0.572', '0.584']\n",
      "roc_auc  avg:  0.561   ['0.527', '0.572', '0.584']\n",
      "[0.5638886282599243, 0.5618735701684966, 0.5608971099092774]\n",
      "index: 0\n",
      "target_2\n",
      "roc_auc  avg:  0.582   ['0.590', '0.584', '0.571']\n",
      "roc_auc  avg:  0.583   ['0.593', '0.585', '0.572']\n",
      "roc_auc  avg:  0.583   ['0.592', '0.586', '0.571']\n",
      "[0.5818256347541609, 0.5832763623752149, 0.5831736264253847]\n",
      "index: 1\n",
      "target_3\n",
      "roc_auc  avg:  0.617   ['0.607', '0.617', '0.627']\n",
      "roc_auc  avg:  0.618   ['0.606', '0.616', '0.630']\n",
      "roc_auc  avg:  0.617   ['0.605', '0.616', '0.629']\n",
      "[0.6170897112745704, 0.6177441638995389, 0.6168164985349227]\n",
      "index: 1\n",
      "target_4\n",
      "roc_auc  avg:  0.585   ['0.597', '0.587', '0.570']\n",
      "roc_auc  avg:  0.584   ['0.596', '0.585', '0.572']\n",
      "roc_auc  avg:  0.585   ['0.597', '0.585', '0.572']\n",
      "[0.5845396549218451, 0.5844992553063606, 0.5846862691919629]\n",
      "index: 2\n",
      "target_5\n",
      "roc_auc  avg:  0.535   ['0.534', '0.527', '0.543']\n",
      "roc_auc  avg:  0.534   ['0.533', '0.527', '0.544']\n",
      "roc_auc  avg:  0.534   ['0.533', '0.527', '0.541']\n",
      "[0.534892630380707, 0.5343118221785977, 0.5338415547886451]\n",
      "index: 0\n"
     ]
    }
   ],
   "source": [
    "C_grids = {\n",
    "    'target_1': [{'n_estimators':400, 'max_depth':5}, {'n_estimators':500, 'max_depth':5}, {'n_estimators':600, 'max_depth':5}],\n",
    "    'target_2': [{'n_estimators':600, 'max_depth':7}, {'n_estimators':700, 'max_depth':7}, {'n_estimators':800, 'max_depth':7}],\n",
    "    'target_3': [{'n_estimators':500, 'max_depth':5}, {'n_estimators':600, 'max_depth':5}, {'n_estimators':700, 'max_depth':5}],\n",
    "    'target_4': [{'n_estimators':500, 'max_depth':3}, {'n_estimators':600, 'max_depth':3}, {'n_estimators':700, 'max_depth':3}],\n",
    "    'target_5': [{'n_estimators':550, 'max_depth':3}, {'n_estimators':575, 'max_depth':3}, {'n_estimators':600, 'max_depth':3}],\n",
    "}\n",
    "\n",
    "for target in targets:\n",
    "    print(target)\n",
    "    roc_auc_means = []\n",
    "    for options in C_grids[target]:\n",
    "        rf = RandomForestClassifier(**options, class_weight='balanced', random_state=42, n_jobs=4)\n",
    "        roc_auc_means.append(CV_metrics(rf, X_train, Y[target].values))\n",
    "    print(roc_auc_means)\n",
    "    index = roc_auc_means.index(max(roc_auc_means))\n",
    "    print(f'index: {index}')\n",
    "    options = C_grids[target][index]\n",
    "    final_models[f'{target}_rf'] = RandomForestClassifier(**options,\n",
    "                                                          class_weight='balanced',\n",
    "                                                          random_state=42,\n",
    "                                                          n_jobs=-1)\n",
    "    final_models_roc_auc[f'{target}_rf'] = max(roc_auc_means)"
   ]
  },
  {
   "cell_type": "markdown",
   "metadata": {},
   "source": [
    "## GBM"
   ]
  },
  {
   "cell_type": "code",
   "execution_count": 8,
   "metadata": {},
   "outputs": [
    {
     "name": "stdout",
     "output_type": "stream",
     "text": [
      "target_1\n",
      "roc_auc  avg:  0.591   ['0.586', '0.591', '0.594']\n",
      "roc_auc  avg:  0.589   ['0.583', '0.591', '0.594']\n",
      "roc_auc  avg:  0.589   ['0.580', '0.592', '0.595']\n",
      "[0.590557138613978, 0.5894142557819152, 0.5889836055598097]\n",
      "index: 0\n",
      "target_2\n",
      "roc_auc  avg:  0.587   ['0.596', '0.587', '0.578']\n",
      "roc_auc  avg:  0.588   ['0.596', '0.587', '0.581']\n",
      "roc_auc  avg:  0.588   ['0.596', '0.587', '0.581']\n",
      "[0.5868844683394169, 0.5879345425359006, 0.5879373403797268]\n",
      "index: 2\n",
      "target_3\n",
      "roc_auc  avg:  0.616   ['0.600', '0.617', '0.629']\n",
      "roc_auc  avg:  0.616   ['0.605', '0.618', '0.625']\n",
      "roc_auc  avg:  0.617   ['0.607', '0.621', '0.624']\n",
      "[0.6155342207717028, 0.6160537026887066, 0.6170272922996122]\n",
      "index: 2\n",
      "target_4\n",
      "roc_auc  avg:  0.598   ['0.611', '0.600', '0.582']\n",
      "roc_auc  avg:  0.595   ['0.612', '0.598', '0.574']\n",
      "roc_auc  avg:  0.593   ['0.610', '0.602', '0.567']\n",
      "[0.5975346921776973, 0.5949037841249799, 0.5927887581201986]\n",
      "index: 0\n",
      "target_5\n",
      "roc_auc  avg:  0.538   ['0.551', '0.527', '0.537']\n",
      "roc_auc  avg:  0.539   ['0.546', '0.531', '0.542']\n",
      "roc_auc  avg:  0.538   ['0.539', '0.533', '0.540']\n",
      "[0.5383570510723604, 0.5393346292015149, 0.5375136902760081]\n",
      "index: 1\n"
     ]
    }
   ],
   "source": [
    "C_grids = {\n",
    "    'target_1': [{'n_estimators':200, 'num_leaves':3, 'reg_lambda':10.0}, {'n_estimators':300, 'num_leaves':3, 'reg_lambda':10.0}, {'n_estimators':400, 'num_leaves':3, 'reg_lambda':10.0}],\n",
    "    'target_2': [{'n_estimators':400, 'num_leaves':7, 'reg_lambda':10.0}, {'n_estimators':500, 'num_leaves':7, 'reg_lambda':10.0}, {'n_estimators':600, 'num_leaves':7, 'reg_lambda':10.0}],\n",
    "    'target_3': [{'n_estimators':150, 'num_leaves':3, 'reg_lambda':5.0}, {'n_estimators':150, 'num_leaves':5, 'reg_lambda':10.0}, {'n_estimators':150, 'num_leaves':7, 'reg_lambda':15.0}],\n",
    "    'target_4': [{'n_estimators':100, 'num_leaves':3, 'reg_lambda':10.0}, {'n_estimators':150, 'num_leaves':3, 'reg_lambda':10.0}, {'n_estimators':200, 'num_leaves':3, 'reg_lambda':10.0}],\n",
    "    'target_5': [{'n_estimators':100, 'num_leaves':3, 'reg_lambda':10.0}, {'n_estimators':200, 'num_leaves':3, 'reg_lambda':10.0}, {'n_estimators':300, 'num_leaves':3, 'reg_lambda':10.0}],\n",
    "}\n",
    "\n",
    "for target in targets:\n",
    "    print(target)\n",
    "    roc_auc_means = []\n",
    "    for options in C_grids[target]:\n",
    "        gbm = LGBMClassifier(**options, learning_rate=0.01, random_state=42, class_weight='balanced')\n",
    "        roc_auc_means.append(CV_metrics(gbm, X_train, Y[target].values))\n",
    "    print(roc_auc_means)\n",
    "    index = roc_auc_means.index(max(roc_auc_means))\n",
    "    print(f'index: {index}')\n",
    "    options = C_grids[target][index]\n",
    "    final_models[f'{target}_gbm'] = LGBMClassifier(**options, random_state=42, class_weight='balanced')\n",
    "    final_models_roc_auc[f'{target}_gbm'] = max(roc_auc_means)"
   ]
  },
  {
   "cell_type": "code",
   "execution_count": 11,
   "metadata": {},
   "outputs": [
    {
     "data": {
      "text/plain": [
       "0.5785226926706261"
      ]
     },
     "execution_count": 11,
     "metadata": {},
     "output_type": "execute_result"
    }
   ],
   "source": [
    "np.mean([v for _, v in final_models_roc_auc.items()])"
   ]
  },
  {
   "cell_type": "markdown",
   "metadata": {},
   "source": [
    "## Model"
   ]
  },
  {
   "cell_type": "code",
   "execution_count": 9,
   "metadata": {},
   "outputs": [],
   "source": [
    "probas = []\n",
    "X_train = merged.drop(columns=targets)\n",
    "X_train_logreg = logreg_merged.drop(columns=targets)\n",
    "for target in targets:\n",
    "    y_train = merged[target].values\n",
    "    # models\n",
    "    # lightgbm\n",
    "    y_proba = final_models[f'{target}_gbm'].fit(X_train, y_train).predict_proba(X_test)[:, 1] * 0.2\n",
    "    # random forest\n",
    "    y_proba += final_models[f'{target}_rf'].fit(X_train, y_train).predict_proba(X_test)[:, 1] * 0.3\n",
    "    # logreg\n",
    "    y_proba += final_models[f'{target}_logreg'].fit(X_train_norm, y_train).predict_proba(X_test_norm)[:, 1] * 0.5\n",
    "    probas.append(y_proba)"
   ]
  },
  {
   "cell_type": "code",
   "execution_count": 10,
   "metadata": {},
   "outputs": [],
   "source": [
    "tmp = pd.DataFrame(probas).T\n",
    "baseline = pd.DataFrame(tmp.values, columns=['1', '2', '3', '4', '5'])\n",
    "baseline['id'] = X_test['id']\n",
    "baseline[['id', '1', '2', '3', '4', '5']].to_csv('baseline.csv', index=False)"
   ]
  }
 ],
 "metadata": {
  "hide_input": false,
  "kernelspec": {
   "display_name": "Python 3",
   "language": "python",
   "name": "python3"
  },
  "language_info": {
   "codemirror_mode": {
    "name": "ipython",
    "version": 3
   },
   "file_extension": ".py",
   "mimetype": "text/x-python",
   "name": "python",
   "nbconvert_exporter": "python",
   "pygments_lexer": "ipython3",
   "version": "3.7.3"
  },
  "toc": {
   "base_numbering": 1,
   "nav_menu": {},
   "number_sections": true,
   "sideBar": true,
   "skip_h1_title": false,
   "title_cell": "Table of Contents",
   "title_sidebar": "Contents",
   "toc_cell": false,
   "toc_position": {
    "height": "calc(100% - 180px)",
    "left": "10px",
    "top": "150px",
    "width": "246.6px"
   },
   "toc_section_display": true,
   "toc_window_display": true
  }
 },
 "nbformat": 4,
 "nbformat_minor": 4
}
